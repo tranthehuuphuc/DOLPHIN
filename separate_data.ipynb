{
 "cells": [
  {
   "cell_type": "code",
   "execution_count": 6,
   "metadata": {},
   "outputs": [
    {
     "name": "stdout",
     "output_type": "stream",
     "text": [
      "(80000, 4)\n",
      "(80000, 4)\n",
      "Đã tạo 4 file nhỏ.\n"
     ]
    }
   ],
   "source": [
    "import pandas as pd\n",
    "\n",
    "# Đọc dữ liệu từ file CSV\n",
    "df = pd.read_csv('dga_data.csv')\n",
    "\n",
    "# Tách dữ liệu thành 2 phần: dga và legit\n",
    "dga_data = df[df['isDGA'] == 'dga']\n",
    "legit_data = df[df['isDGA'] == 'legit']\n",
    "\n",
    "# Kiểm tra lại số lượng mẫu trong mỗi nhóm\n",
    "print(dga_data.shape)\n",
    "print(legit_data.shape)\n",
    "\n",
    "# Cần 4 file nhỏ, mỗi file có 40,000 mẫu (20,000 dga và 20,000 legit)\n",
    "samples_per_file = 20000\n",
    "\n",
    "# Danh sách để lưu tên file\n",
    "files = []\n",
    "\n",
    "# Tạo 4 file nhỏ, mỗi file chứa 20,000 mẫu dga và 20,000 mẫu legit\n",
    "for i in range(4):\n",
    "    # Lấy 20,000 mẫu dga và 20,000 mẫu legit cho mỗi file\n",
    "    dga_part = dga_data.iloc[i*samples_per_file:(i+1)*samples_per_file]\n",
    "    legit_part = legit_data.iloc[i*samples_per_file:(i+1)*samples_per_file]\n",
    "    \n",
    "    # Kết hợp lại thành một DataFrame\n",
    "    small_df = pd.concat([dga_part, legit_part])\n",
    "    \n",
    "    # Trộn dữ liệu để đảm bảo sự phân phối ngẫu nhiên\n",
    "    small_df = small_df.sample(frac=1, random_state=42).reset_index(drop=True)\n",
    "    \n",
    "    # Lưu thành các file CSV nhỏ\n",
    "    file_name = f'dga_data_part_{i+1}.csv'\n",
    "    small_df.to_csv(file_name, index=False)\n",
    "    files.append(file_name)\n",
    "\n",
    "print(f\"Đã tạo {len(files)} file nhỏ.\")\n"
   ]
  },
  {
   "cell_type": "code",
   "execution_count": 14,
   "metadata": {},
   "outputs": [
    {
     "name": "stdout",
     "output_type": "stream",
     "text": [
      "dga_data_part_1.csv: isDGA\n",
      "legit    20000\n",
      "dga      20000\n",
      "Name: count, dtype: int64\n",
      "dga_data_part_2.csv: isDGA\n",
      "legit    20000\n",
      "dga      20000\n",
      "Name: count, dtype: int64\n",
      "dga_data_part_3.csv: isDGA\n",
      "legit    20000\n",
      "dga      20000\n",
      "Name: count, dtype: int64\n",
      "dga_data_part_4.csv: isDGA\n",
      "legit    20000\n",
      "dga      20000\n",
      "Name: count, dtype: int64\n"
     ]
    }
   ],
   "source": [
    "# Kiểm tra số lượng mẫu trong từng file nhỏ\n",
    "for file in files:\n",
    "    part_df = pd.read_csv(file)\n",
    "    print(f'{file}: {part_df[\"isDGA\"].value_counts()}')\n"
   ]
  }
 ],
 "metadata": {
  "kernelspec": {
   "display_name": "Python 3",
   "language": "python",
   "name": "python3"
  },
  "language_info": {
   "codemirror_mode": {
    "name": "ipython",
    "version": 3
   },
   "file_extension": ".py",
   "mimetype": "text/x-python",
   "name": "python",
   "nbconvert_exporter": "python",
   "pygments_lexer": "ipython3",
   "version": "3.9.6"
  }
 },
 "nbformat": 4,
 "nbformat_minor": 2
}
