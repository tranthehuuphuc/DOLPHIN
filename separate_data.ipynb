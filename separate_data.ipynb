{
 "cells": [
  {
   "cell_type": "code",
   "execution_count": 22,
   "metadata": {},
   "outputs": [
    {
     "name": "stdout",
     "output_type": "stream",
     "text": [
      "Total DGA: 80000\n",
      "Total Legit: 80000\n",
      "Created ./datasets/dga_data_1000.csv.\n",
      "Created ./datasets/dga_data_2000.csv.\n",
      "Created ./datasets/dga_data_3000.csv.\n",
      "Created ./datasets/dga_data_4000.csv.\n",
      "Created ./datasets/dga_data_5000.csv.\n",
      "Created ./datasets/dga_data_6000.csv.\n",
      "Created ./datasets/dga_data_7000.csv.\n",
      "Created ./datasets/dga_data_8000.csv.\n",
      "Created ./datasets/dga_data_9000.csv.\n",
      "Created ./datasets/dga_data_10000.csv.\n",
      "Created ./datasets/dga_data_11000.csv.\n",
      "Created ./datasets/dga_data_12000.csv.\n",
      "Created ./datasets/dga_data_13000.csv.\n",
      "Created ./datasets/dga_data_14000.csv.\n",
      "Created ./datasets/dga_data_15000.csv.\n",
      "Created ./datasets/dga_data_16000.csv.\n",
      "Created ./datasets/dga_data_17000.csv.\n",
      "Created ./datasets/dga_data_18000.csv.\n",
      "Created ./datasets/dga_data_19000.csv.\n",
      "Created ./datasets/dga_data_20000.csv.\n"
     ]
    }
   ],
   "source": [
    "import pandas as pd\n",
    "# Read data from CSV file\n",
    "df = pd.read_csv('./datasets/dga_data.csv')\n",
    "\n",
    "# Filter data\n",
    "dga_data = df[df['isDGA'] == 'dga'].reset_index(drop=True)\n",
    "legit_data = df[df['isDGA'] == 'legit'].reset_index(drop=True)\n",
    "\n",
    "# Number of samples to create\n",
    "sample_sizes = [1000, 2000, 3000, 4000, 5000, 6000, 7000, 8000, 9000, 10000, 11000, 12000, 13000, 14000, 15000, 16000, 17000, 18000, 19000, 20000]\n",
    "\n",
    "# Print the number of samples in each group\n",
    "print(\"Total DGA:\", len(dga_data))\n",
    "print(\"Total Legit:\", len(legit_data))\n",
    "\n",
    "for size in sample_sizes:\n",
    "    half_size = size // 2\n",
    "    \n",
    "    dga_sample = dga_data.sample(half_size, random_state=42)\n",
    "    legit_sample = legit_data.sample(half_size, random_state=42)\n",
    "    \n",
    "    combined_sample = pd.concat([dga_sample, legit_sample])\n",
    "    \n",
    "    combined_sample = combined_sample.sample(frac=1, random_state=42).reset_index(drop=True)\n",
    "    \n",
    "    file_name = f'./datasets/dga_data_{size}.csv'\n",
    "    combined_sample.to_csv(file_name, index=False)\n",
    "    print(f\"Created {file_name}.\")\n"
   ]
  },
  {
   "cell_type": "code",
   "execution_count": null,
   "metadata": {},
   "outputs": [],
   "source": [
    "for size in sample_sizes:\n",
    "    file_name = f'dga_data_{size}.csv'\n",
    "    df_check = pd.read_csv(file_name)\n",
    "    print(f\"{file_name}:\")\n",
    "    print(df_check['isDGA'].value_counts())\n"
   ]
  }
 ],
 "metadata": {
  "kernelspec": {
   "display_name": "Python 3",
   "language": "python",
   "name": "python3"
  },
  "language_info": {
   "codemirror_mode": {
    "name": "ipython",
    "version": 3
   },
   "file_extension": ".py",
   "mimetype": "text/x-python",
   "name": "python",
   "nbconvert_exporter": "python",
   "pygments_lexer": "ipython3",
   "version": "3.9.6"
  }
 },
 "nbformat": 4,
 "nbformat_minor": 2
}
