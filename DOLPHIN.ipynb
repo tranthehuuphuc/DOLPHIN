{
 "cells": [
  {
   "cell_type": "markdown",
   "metadata": {},
   "source": [
    "# Import Pakages"
   ]
  },
  {
   "cell_type": "code",
   "execution_count": 74,
   "metadata": {},
   "outputs": [],
   "source": [
    "import numpy as np\n",
    "import pandas as pd\n",
    "import seaborn as sns\n",
    "\n",
    "from modules.dolphin_patterns import greedy_match, DOLPHIN_PATTERNS\n",
    "from modules.feature_extraction import compute_phonics_features\n",
    "from sklearn.pipeline import Pipeline\n",
    "from sklearn.preprocessing import StandardScaler\n",
    "from sklearn.ensemble import RandomForestClassifier\n",
    "from sklearn.model_selection import train_test_split, cross_val_score\n",
    "from sklearn.metrics import classification_report, confusion_matrix\n"
   ]
  },
  {
   "cell_type": "markdown",
   "metadata": {},
   "source": [
    "# Load and Overview Datasets"
   ]
  },
  {
   "cell_type": "code",
   "execution_count": 2,
   "metadata": {},
   "outputs": [
    {
     "data": {
      "text/html": [
       "<div>\n",
       "<style scoped>\n",
       "    .dataframe tbody tr th:only-of-type {\n",
       "        vertical-align: middle;\n",
       "    }\n",
       "\n",
       "    .dataframe tbody tr th {\n",
       "        vertical-align: top;\n",
       "    }\n",
       "\n",
       "    .dataframe thead th {\n",
       "        text-align: right;\n",
       "    }\n",
       "</style>\n",
       "<table border=\"1\" class=\"dataframe\">\n",
       "  <thead>\n",
       "    <tr style=\"text-align: right;\">\n",
       "      <th></th>\n",
       "      <th>isDGA</th>\n",
       "      <th>domain</th>\n",
       "      <th>host</th>\n",
       "      <th>subclass</th>\n",
       "    </tr>\n",
       "  </thead>\n",
       "  <tbody>\n",
       "    <tr>\n",
       "      <th>0</th>\n",
       "      <td>dga</td>\n",
       "      <td>6xzxsw3sokvg1tc752y1a6p0af</td>\n",
       "      <td>6xzxsw3sokvg1tc752y1a6p0af.com</td>\n",
       "      <td>gameoverdga</td>\n",
       "    </tr>\n",
       "    <tr>\n",
       "      <th>1</th>\n",
       "      <td>dga</td>\n",
       "      <td>glbtlxwwhbnpxs</td>\n",
       "      <td>glbtlxwwhbnpxs.ru</td>\n",
       "      <td>cryptolocker</td>\n",
       "    </tr>\n",
       "    <tr>\n",
       "      <th>2</th>\n",
       "      <td>dga</td>\n",
       "      <td>xxmamopyipbfpk</td>\n",
       "      <td>xxmamopyipbfpk.ru</td>\n",
       "      <td>cryptolocker</td>\n",
       "    </tr>\n",
       "    <tr>\n",
       "      <th>3</th>\n",
       "      <td>dga</td>\n",
       "      <td>zfd5szpi18i85wj9uy13l69rg</td>\n",
       "      <td>zfd5szpi18i85wj9uy13l69rg.net</td>\n",
       "      <td>newgoz</td>\n",
       "    </tr>\n",
       "    <tr>\n",
       "      <th>4</th>\n",
       "      <td>dga</td>\n",
       "      <td>jpqftymiuver</td>\n",
       "      <td>jpqftymiuver.ru</td>\n",
       "      <td>cryptolocker</td>\n",
       "    </tr>\n",
       "    <tr>\n",
       "      <th>...</th>\n",
       "      <td>...</td>\n",
       "      <td>...</td>\n",
       "      <td>...</td>\n",
       "      <td>...</td>\n",
       "    </tr>\n",
       "    <tr>\n",
       "      <th>159995</th>\n",
       "      <td>legit</td>\n",
       "      <td>manhunt</td>\n",
       "      <td>manhunt.net</td>\n",
       "      <td>alexa</td>\n",
       "    </tr>\n",
       "    <tr>\n",
       "      <th>159996</th>\n",
       "      <td>legit</td>\n",
       "      <td>yupptv</td>\n",
       "      <td>yupptv.com</td>\n",
       "      <td>alexa</td>\n",
       "    </tr>\n",
       "    <tr>\n",
       "      <th>159997</th>\n",
       "      <td>legit</td>\n",
       "      <td>bbcmundo</td>\n",
       "      <td>bbcmundo.com</td>\n",
       "      <td>legit</td>\n",
       "    </tr>\n",
       "    <tr>\n",
       "      <th>159998</th>\n",
       "      <td>legit</td>\n",
       "      <td>kanogames</td>\n",
       "      <td>kanogames.com</td>\n",
       "      <td>legit</td>\n",
       "    </tr>\n",
       "    <tr>\n",
       "      <th>159999</th>\n",
       "      <td>legit</td>\n",
       "      <td>roadrover</td>\n",
       "      <td>roadrover.cn</td>\n",
       "      <td>alexa</td>\n",
       "    </tr>\n",
       "  </tbody>\n",
       "</table>\n",
       "<p>160000 rows × 4 columns</p>\n",
       "</div>"
      ],
      "text/plain": [
       "        isDGA                      domain                            host  \\\n",
       "0         dga  6xzxsw3sokvg1tc752y1a6p0af  6xzxsw3sokvg1tc752y1a6p0af.com   \n",
       "1         dga              glbtlxwwhbnpxs               glbtlxwwhbnpxs.ru   \n",
       "2         dga              xxmamopyipbfpk               xxmamopyipbfpk.ru   \n",
       "3         dga   zfd5szpi18i85wj9uy13l69rg   zfd5szpi18i85wj9uy13l69rg.net   \n",
       "4         dga                jpqftymiuver                 jpqftymiuver.ru   \n",
       "...       ...                         ...                             ...   \n",
       "159995  legit                     manhunt                     manhunt.net   \n",
       "159996  legit                      yupptv                      yupptv.com   \n",
       "159997  legit                    bbcmundo                    bbcmundo.com   \n",
       "159998  legit                   kanogames                   kanogames.com   \n",
       "159999  legit                   roadrover                    roadrover.cn   \n",
       "\n",
       "            subclass  \n",
       "0        gameoverdga  \n",
       "1       cryptolocker  \n",
       "2       cryptolocker  \n",
       "3             newgoz  \n",
       "4       cryptolocker  \n",
       "...              ...  \n",
       "159995         alexa  \n",
       "159996         alexa  \n",
       "159997         legit  \n",
       "159998         legit  \n",
       "159999         alexa  \n",
       "\n",
       "[160000 rows x 4 columns]"
      ]
     },
     "execution_count": 2,
     "metadata": {},
     "output_type": "execute_result"
    }
   ],
   "source": [
    "df = pd.read_csv('dga_data.csv')\n",
    "df"
   ]
  },
  {
   "cell_type": "code",
   "execution_count": 3,
   "metadata": {},
   "outputs": [
    {
     "name": "stdout",
     "output_type": "stream",
     "text": [
      "         isDGA                      domain                 host subclass\n",
      "count   160000                      159998               160000   160000\n",
      "unique       2                      159998               159235        9\n",
      "top        dga  6xzxsw3sokvg1tc752y1a6p0af  ventures-africa.com    alexa\n",
      "freq     80000                           1                    2    42616\n"
     ]
    }
   ],
   "source": [
    "print(df.describe())"
   ]
  },
  {
   "cell_type": "code",
   "execution_count": 4,
   "metadata": {},
   "outputs": [
    {
     "name": "stdout",
     "output_type": "stream",
     "text": [
      "<class 'pandas.core.frame.DataFrame'>\n",
      "RangeIndex: 160000 entries, 0 to 159999\n",
      "Data columns (total 4 columns):\n",
      " #   Column    Non-Null Count   Dtype \n",
      "---  ------    --------------   ----- \n",
      " 0   isDGA     160000 non-null  object\n",
      " 1   domain    159998 non-null  object\n",
      " 2   host      160000 non-null  object\n",
      " 3   subclass  160000 non-null  object\n",
      "dtypes: object(4)\n",
      "memory usage: 4.9+ MB\n",
      "None\n"
     ]
    }
   ],
   "source": [
    "print(df.info())"
   ]
  },
  {
   "cell_type": "markdown",
   "metadata": {},
   "source": [
    "# Preprocessing datasets"
   ]
  },
  {
   "cell_type": "code",
   "execution_count": 5,
   "metadata": {},
   "outputs": [
    {
     "data": {
      "text/plain": [
       "isDGA       0\n",
       "domain      2\n",
       "host        0\n",
       "subclass    0\n",
       "dtype: int64"
      ]
     },
     "execution_count": 5,
     "metadata": {},
     "output_type": "execute_result"
    }
   ],
   "source": [
    "df.isna().sum()"
   ]
  },
  {
   "cell_type": "code",
   "execution_count": 6,
   "metadata": {},
   "outputs": [
    {
     "data": {
      "text/html": [
       "<div>\n",
       "<style scoped>\n",
       "    .dataframe tbody tr th:only-of-type {\n",
       "        vertical-align: middle;\n",
       "    }\n",
       "\n",
       "    .dataframe tbody tr th {\n",
       "        vertical-align: top;\n",
       "    }\n",
       "\n",
       "    .dataframe thead th {\n",
       "        text-align: right;\n",
       "    }\n",
       "</style>\n",
       "<table border=\"1\" class=\"dataframe\">\n",
       "  <thead>\n",
       "    <tr style=\"text-align: right;\">\n",
       "      <th></th>\n",
       "      <th>isDGA</th>\n",
       "      <th>domain</th>\n",
       "      <th>host</th>\n",
       "      <th>subclass</th>\n",
       "    </tr>\n",
       "  </thead>\n",
       "  <tbody>\n",
       "    <tr>\n",
       "      <th>0</th>\n",
       "      <td>dga</td>\n",
       "      <td>6xzxsw3sokvg1tc752y1a6p0af</td>\n",
       "      <td>6xzxsw3sokvg1tc752y1a6p0af.com</td>\n",
       "      <td>gameoverdga</td>\n",
       "    </tr>\n",
       "    <tr>\n",
       "      <th>1</th>\n",
       "      <td>dga</td>\n",
       "      <td>glbtlxwwhbnpxs</td>\n",
       "      <td>glbtlxwwhbnpxs.ru</td>\n",
       "      <td>cryptolocker</td>\n",
       "    </tr>\n",
       "    <tr>\n",
       "      <th>2</th>\n",
       "      <td>dga</td>\n",
       "      <td>xxmamopyipbfpk</td>\n",
       "      <td>xxmamopyipbfpk.ru</td>\n",
       "      <td>cryptolocker</td>\n",
       "    </tr>\n",
       "    <tr>\n",
       "      <th>3</th>\n",
       "      <td>dga</td>\n",
       "      <td>zfd5szpi18i85wj9uy13l69rg</td>\n",
       "      <td>zfd5szpi18i85wj9uy13l69rg.net</td>\n",
       "      <td>newgoz</td>\n",
       "    </tr>\n",
       "    <tr>\n",
       "      <th>4</th>\n",
       "      <td>dga</td>\n",
       "      <td>jpqftymiuver</td>\n",
       "      <td>jpqftymiuver.ru</td>\n",
       "      <td>cryptolocker</td>\n",
       "    </tr>\n",
       "    <tr>\n",
       "      <th>...</th>\n",
       "      <td>...</td>\n",
       "      <td>...</td>\n",
       "      <td>...</td>\n",
       "      <td>...</td>\n",
       "    </tr>\n",
       "    <tr>\n",
       "      <th>159995</th>\n",
       "      <td>legit</td>\n",
       "      <td>manhunt</td>\n",
       "      <td>manhunt.net</td>\n",
       "      <td>alexa</td>\n",
       "    </tr>\n",
       "    <tr>\n",
       "      <th>159996</th>\n",
       "      <td>legit</td>\n",
       "      <td>yupptv</td>\n",
       "      <td>yupptv.com</td>\n",
       "      <td>alexa</td>\n",
       "    </tr>\n",
       "    <tr>\n",
       "      <th>159997</th>\n",
       "      <td>legit</td>\n",
       "      <td>bbcmundo</td>\n",
       "      <td>bbcmundo.com</td>\n",
       "      <td>legit</td>\n",
       "    </tr>\n",
       "    <tr>\n",
       "      <th>159998</th>\n",
       "      <td>legit</td>\n",
       "      <td>kanogames</td>\n",
       "      <td>kanogames.com</td>\n",
       "      <td>legit</td>\n",
       "    </tr>\n",
       "    <tr>\n",
       "      <th>159999</th>\n",
       "      <td>legit</td>\n",
       "      <td>roadrover</td>\n",
       "      <td>roadrover.cn</td>\n",
       "      <td>alexa</td>\n",
       "    </tr>\n",
       "  </tbody>\n",
       "</table>\n",
       "<p>159998 rows × 4 columns</p>\n",
       "</div>"
      ],
      "text/plain": [
       "        isDGA                      domain                            host  \\\n",
       "0         dga  6xzxsw3sokvg1tc752y1a6p0af  6xzxsw3sokvg1tc752y1a6p0af.com   \n",
       "1         dga              glbtlxwwhbnpxs               glbtlxwwhbnpxs.ru   \n",
       "2         dga              xxmamopyipbfpk               xxmamopyipbfpk.ru   \n",
       "3         dga   zfd5szpi18i85wj9uy13l69rg   zfd5szpi18i85wj9uy13l69rg.net   \n",
       "4         dga                jpqftymiuver                 jpqftymiuver.ru   \n",
       "...       ...                         ...                             ...   \n",
       "159995  legit                     manhunt                     manhunt.net   \n",
       "159996  legit                      yupptv                      yupptv.com   \n",
       "159997  legit                    bbcmundo                    bbcmundo.com   \n",
       "159998  legit                   kanogames                   kanogames.com   \n",
       "159999  legit                   roadrover                    roadrover.cn   \n",
       "\n",
       "            subclass  \n",
       "0        gameoverdga  \n",
       "1       cryptolocker  \n",
       "2       cryptolocker  \n",
       "3             newgoz  \n",
       "4       cryptolocker  \n",
       "...              ...  \n",
       "159995         alexa  \n",
       "159996         alexa  \n",
       "159997         legit  \n",
       "159998         legit  \n",
       "159999         alexa  \n",
       "\n",
       "[159998 rows x 4 columns]"
      ]
     },
     "execution_count": 6,
     "metadata": {},
     "output_type": "execute_result"
    }
   ],
   "source": [
    "df.dropna()\n"
   ]
  },
  {
   "cell_type": "code",
   "execution_count": 7,
   "metadata": {},
   "outputs": [
    {
     "data": {
      "text/html": [
       "<div>\n",
       "<style scoped>\n",
       "    .dataframe tbody tr th:only-of-type {\n",
       "        vertical-align: middle;\n",
       "    }\n",
       "\n",
       "    .dataframe tbody tr th {\n",
       "        vertical-align: top;\n",
       "    }\n",
       "\n",
       "    .dataframe thead th {\n",
       "        text-align: right;\n",
       "    }\n",
       "</style>\n",
       "<table border=\"1\" class=\"dataframe\">\n",
       "  <thead>\n",
       "    <tr style=\"text-align: right;\">\n",
       "      <th></th>\n",
       "      <th>isDGA</th>\n",
       "      <th>host</th>\n",
       "      <th>subclass</th>\n",
       "    </tr>\n",
       "  </thead>\n",
       "  <tbody>\n",
       "    <tr>\n",
       "      <th>0</th>\n",
       "      <td>dga</td>\n",
       "      <td>6xzxsw3sokvg1tc752y1a6p0af.com</td>\n",
       "      <td>gameoverdga</td>\n",
       "    </tr>\n",
       "    <tr>\n",
       "      <th>1</th>\n",
       "      <td>dga</td>\n",
       "      <td>glbtlxwwhbnpxs.ru</td>\n",
       "      <td>cryptolocker</td>\n",
       "    </tr>\n",
       "    <tr>\n",
       "      <th>2</th>\n",
       "      <td>dga</td>\n",
       "      <td>xxmamopyipbfpk.ru</td>\n",
       "      <td>cryptolocker</td>\n",
       "    </tr>\n",
       "    <tr>\n",
       "      <th>3</th>\n",
       "      <td>dga</td>\n",
       "      <td>zfd5szpi18i85wj9uy13l69rg.net</td>\n",
       "      <td>newgoz</td>\n",
       "    </tr>\n",
       "    <tr>\n",
       "      <th>4</th>\n",
       "      <td>dga</td>\n",
       "      <td>jpqftymiuver.ru</td>\n",
       "      <td>cryptolocker</td>\n",
       "    </tr>\n",
       "    <tr>\n",
       "      <th>...</th>\n",
       "      <td>...</td>\n",
       "      <td>...</td>\n",
       "      <td>...</td>\n",
       "    </tr>\n",
       "    <tr>\n",
       "      <th>159995</th>\n",
       "      <td>legit</td>\n",
       "      <td>manhunt.net</td>\n",
       "      <td>alexa</td>\n",
       "    </tr>\n",
       "    <tr>\n",
       "      <th>159996</th>\n",
       "      <td>legit</td>\n",
       "      <td>yupptv.com</td>\n",
       "      <td>alexa</td>\n",
       "    </tr>\n",
       "    <tr>\n",
       "      <th>159997</th>\n",
       "      <td>legit</td>\n",
       "      <td>bbcmundo.com</td>\n",
       "      <td>legit</td>\n",
       "    </tr>\n",
       "    <tr>\n",
       "      <th>159998</th>\n",
       "      <td>legit</td>\n",
       "      <td>kanogames.com</td>\n",
       "      <td>legit</td>\n",
       "    </tr>\n",
       "    <tr>\n",
       "      <th>159999</th>\n",
       "      <td>legit</td>\n",
       "      <td>roadrover.cn</td>\n",
       "      <td>alexa</td>\n",
       "    </tr>\n",
       "  </tbody>\n",
       "</table>\n",
       "<p>160000 rows × 3 columns</p>\n",
       "</div>"
      ],
      "text/plain": [
       "        isDGA                            host      subclass\n",
       "0         dga  6xzxsw3sokvg1tc752y1a6p0af.com   gameoverdga\n",
       "1         dga               glbtlxwwhbnpxs.ru  cryptolocker\n",
       "2         dga               xxmamopyipbfpk.ru  cryptolocker\n",
       "3         dga   zfd5szpi18i85wj9uy13l69rg.net        newgoz\n",
       "4         dga                 jpqftymiuver.ru  cryptolocker\n",
       "...       ...                             ...           ...\n",
       "159995  legit                     manhunt.net         alexa\n",
       "159996  legit                      yupptv.com         alexa\n",
       "159997  legit                    bbcmundo.com         legit\n",
       "159998  legit                   kanogames.com         legit\n",
       "159999  legit                    roadrover.cn         alexa\n",
       "\n",
       "[160000 rows x 3 columns]"
      ]
     },
     "execution_count": 7,
     "metadata": {},
     "output_type": "execute_result"
    }
   ],
   "source": [
    "df.drop(['domain'], axis=1, inplace=True)\n",
    "df"
   ]
  },
  {
   "cell_type": "code",
   "execution_count": 8,
   "metadata": {},
   "outputs": [
    {
     "data": {
      "text/plain": [
       "<Axes: xlabel='count', ylabel='isDGA'>"
      ]
     },
     "execution_count": 8,
     "metadata": {},
     "output_type": "execute_result"
    },
    {
     "data": {
      "image/png": "[encoded data removed]",
      "text/plain": [
       "<Figure size 640x480 with 1 Axes>"
      ]
     },
     "metadata": {},
     "output_type": "display_data"
    }
   ],
   "source": [
    "sns.countplot(df['isDGA'])"
   ]
  },
  {
   "cell_type": "code",
   "execution_count": 9,
   "metadata": {},
   "outputs": [
    {
     "data": {
      "text/plain": [
       "<Axes: xlabel='count', ylabel='subclass'>"
      ]
     },
     "execution_count": 9,
     "metadata": {},
     "output_type": "execute_result"
    },
    {
     "data": {
      "image/png": "[encoded data removed]",
      "text/plain": [
       "<Figure size 640x480 with 1 Axes>"
      ]
     },
     "metadata": {},
     "output_type": "display_data"
    }
   ],
   "source": [
    "sns.countplot(df['subclass'])"
   ]
  },
  {
   "cell_type": "markdown",
   "metadata": {},
   "source": [
    "# Label Encoding"
   ]
  },
  {
   "cell_type": "code",
   "execution_count": 10,
   "metadata": {},
   "outputs": [
    {
     "data": {
      "text/html": [
       "<div>\n",
       "<style scoped>\n",
       "    .dataframe tbody tr th:only-of-type {\n",
       "        vertical-align: middle;\n",
       "    }\n",
       "\n",
       "    .dataframe tbody tr th {\n",
       "        vertical-align: top;\n",
       "    }\n",
       "\n",
       "    .dataframe thead th {\n",
       "        text-align: right;\n",
       "    }\n",
       "</style>\n",
       "<table border=\"1\" class=\"dataframe\">\n",
       "  <thead>\n",
       "    <tr style=\"text-align: right;\">\n",
       "      <th></th>\n",
       "      <th>isDGA</th>\n",
       "      <th>host</th>\n",
       "      <th>subclass</th>\n",
       "    </tr>\n",
       "  </thead>\n",
       "  <tbody>\n",
       "    <tr>\n",
       "      <th>0</th>\n",
       "      <td>1</td>\n",
       "      <td>6xzxsw3sokvg1tc752y1a6p0af.com</td>\n",
       "      <td>gameoverdga</td>\n",
       "    </tr>\n",
       "    <tr>\n",
       "      <th>1</th>\n",
       "      <td>1</td>\n",
       "      <td>glbtlxwwhbnpxs.ru</td>\n",
       "      <td>cryptolocker</td>\n",
       "    </tr>\n",
       "    <tr>\n",
       "      <th>2</th>\n",
       "      <td>1</td>\n",
       "      <td>xxmamopyipbfpk.ru</td>\n",
       "      <td>cryptolocker</td>\n",
       "    </tr>\n",
       "    <tr>\n",
       "      <th>3</th>\n",
       "      <td>1</td>\n",
       "      <td>zfd5szpi18i85wj9uy13l69rg.net</td>\n",
       "      <td>newgoz</td>\n",
       "    </tr>\n",
       "    <tr>\n",
       "      <th>4</th>\n",
       "      <td>1</td>\n",
       "      <td>jpqftymiuver.ru</td>\n",
       "      <td>cryptolocker</td>\n",
       "    </tr>\n",
       "    <tr>\n",
       "      <th>...</th>\n",
       "      <td>...</td>\n",
       "      <td>...</td>\n",
       "      <td>...</td>\n",
       "    </tr>\n",
       "    <tr>\n",
       "      <th>159995</th>\n",
       "      <td>0</td>\n",
       "      <td>manhunt.net</td>\n",
       "      <td>alexa</td>\n",
       "    </tr>\n",
       "    <tr>\n",
       "      <th>159996</th>\n",
       "      <td>0</td>\n",
       "      <td>yupptv.com</td>\n",
       "      <td>alexa</td>\n",
       "    </tr>\n",
       "    <tr>\n",
       "      <th>159997</th>\n",
       "      <td>0</td>\n",
       "      <td>bbcmundo.com</td>\n",
       "      <td>legit</td>\n",
       "    </tr>\n",
       "    <tr>\n",
       "      <th>159998</th>\n",
       "      <td>0</td>\n",
       "      <td>kanogames.com</td>\n",
       "      <td>legit</td>\n",
       "    </tr>\n",
       "    <tr>\n",
       "      <th>159999</th>\n",
       "      <td>0</td>\n",
       "      <td>roadrover.cn</td>\n",
       "      <td>alexa</td>\n",
       "    </tr>\n",
       "  </tbody>\n",
       "</table>\n",
       "<p>160000 rows × 3 columns</p>\n",
       "</div>"
      ],
      "text/plain": [
       "        isDGA                            host      subclass\n",
       "0           1  6xzxsw3sokvg1tc752y1a6p0af.com   gameoverdga\n",
       "1           1               glbtlxwwhbnpxs.ru  cryptolocker\n",
       "2           1               xxmamopyipbfpk.ru  cryptolocker\n",
       "3           1   zfd5szpi18i85wj9uy13l69rg.net        newgoz\n",
       "4           1                 jpqftymiuver.ru  cryptolocker\n",
       "...       ...                             ...           ...\n",
       "159995      0                     manhunt.net         alexa\n",
       "159996      0                      yupptv.com         alexa\n",
       "159997      0                    bbcmundo.com         legit\n",
       "159998      0                   kanogames.com         legit\n",
       "159999      0                    roadrover.cn         alexa\n",
       "\n",
       "[160000 rows x 3 columns]"
      ]
     },
     "execution_count": 10,
     "metadata": {},
     "output_type": "execute_result"
    }
   ],
   "source": [
    "df['isDGA'] = df['isDGA'].map({'dga': 1, 'legit': 0})\n",
    "df"
   ]
  },
  {
   "cell_type": "markdown",
   "metadata": {},
   "source": [
    "# Extract Features"
   ]
  },
  {
   "cell_type": "code",
   "execution_count": 11,
   "metadata": {},
   "outputs": [
    {
     "data": {
      "text/html": [
       "<div>\n",
       "<style scoped>\n",
       "    .dataframe tbody tr th:only-of-type {\n",
       "        vertical-align: middle;\n",
       "    }\n",
       "\n",
       "    .dataframe tbody tr th {\n",
       "        vertical-align: top;\n",
       "    }\n",
       "\n",
       "    .dataframe thead th {\n",
       "        text-align: right;\n",
       "    }\n",
       "</style>\n",
       "<table border=\"1\" class=\"dataframe\">\n",
       "  <thead>\n",
       "    <tr style=\"text-align: right;\">\n",
       "      <th></th>\n",
       "      <th>vowel_ratio</th>\n",
       "      <th>consonant_ratio</th>\n",
       "      <th>neutral_ratio</th>\n",
       "      <th>pattern_diversity</th>\n",
       "      <th>max_pattern_length</th>\n",
       "      <th>isDGA</th>\n",
       "    </tr>\n",
       "  </thead>\n",
       "  <tbody>\n",
       "    <tr>\n",
       "      <th>0</th>\n",
       "      <td>0.137931</td>\n",
       "      <td>0.517241</td>\n",
       "      <td>0.344828</td>\n",
       "      <td>0.103448</td>\n",
       "      <td>2</td>\n",
       "      <td>1</td>\n",
       "    </tr>\n",
       "    <tr>\n",
       "      <th>1</th>\n",
       "      <td>0.066667</td>\n",
       "      <td>0.866667</td>\n",
       "      <td>0.066667</td>\n",
       "      <td>0.200000</td>\n",
       "      <td>2</td>\n",
       "      <td>1</td>\n",
       "    </tr>\n",
       "    <tr>\n",
       "      <th>2</th>\n",
       "      <td>0.235294</td>\n",
       "      <td>0.705882</td>\n",
       "      <td>0.058824</td>\n",
       "      <td>0.176471</td>\n",
       "      <td>1</td>\n",
       "      <td>1</td>\n",
       "    </tr>\n",
       "    <tr>\n",
       "      <th>3</th>\n",
       "      <td>0.137931</td>\n",
       "      <td>0.482759</td>\n",
       "      <td>0.379310</td>\n",
       "      <td>0.103448</td>\n",
       "      <td>1</td>\n",
       "      <td>1</td>\n",
       "    </tr>\n",
       "    <tr>\n",
       "      <th>4</th>\n",
       "      <td>0.285714</td>\n",
       "      <td>0.642857</td>\n",
       "      <td>0.071429</td>\n",
       "      <td>0.214286</td>\n",
       "      <td>2</td>\n",
       "      <td>1</td>\n",
       "    </tr>\n",
       "    <tr>\n",
       "      <th>...</th>\n",
       "      <td>...</td>\n",
       "      <td>...</td>\n",
       "      <td>...</td>\n",
       "      <td>...</td>\n",
       "      <td>...</td>\n",
       "      <td>...</td>\n",
       "    </tr>\n",
       "    <tr>\n",
       "      <th>159995</th>\n",
       "      <td>0.300000</td>\n",
       "      <td>0.600000</td>\n",
       "      <td>0.100000</td>\n",
       "      <td>0.300000</td>\n",
       "      <td>2</td>\n",
       "      <td>0</td>\n",
       "    </tr>\n",
       "    <tr>\n",
       "      <th>159996</th>\n",
       "      <td>0.200000</td>\n",
       "      <td>0.700000</td>\n",
       "      <td>0.100000</td>\n",
       "      <td>0.300000</td>\n",
       "      <td>1</td>\n",
       "      <td>0</td>\n",
       "    </tr>\n",
       "    <tr>\n",
       "      <th>159997</th>\n",
       "      <td>0.272727</td>\n",
       "      <td>0.636364</td>\n",
       "      <td>0.090909</td>\n",
       "      <td>0.272727</td>\n",
       "      <td>2</td>\n",
       "      <td>0</td>\n",
       "    </tr>\n",
       "    <tr>\n",
       "      <th>159998</th>\n",
       "      <td>0.384615</td>\n",
       "      <td>0.538462</td>\n",
       "      <td>0.076923</td>\n",
       "      <td>0.230769</td>\n",
       "      <td>1</td>\n",
       "      <td>0</td>\n",
       "    </tr>\n",
       "    <tr>\n",
       "      <th>159999</th>\n",
       "      <td>0.333333</td>\n",
       "      <td>0.555556</td>\n",
       "      <td>0.111111</td>\n",
       "      <td>0.333333</td>\n",
       "      <td>2</td>\n",
       "      <td>0</td>\n",
       "    </tr>\n",
       "  </tbody>\n",
       "</table>\n",
       "<p>160000 rows × 6 columns</p>\n",
       "</div>"
      ],
      "text/plain": [
       "        vowel_ratio  consonant_ratio  neutral_ratio  pattern_diversity  \\\n",
       "0          0.137931         0.517241       0.344828           0.103448   \n",
       "1          0.066667         0.866667       0.066667           0.200000   \n",
       "2          0.235294         0.705882       0.058824           0.176471   \n",
       "3          0.137931         0.482759       0.379310           0.103448   \n",
       "4          0.285714         0.642857       0.071429           0.214286   \n",
       "...             ...              ...            ...                ...   \n",
       "159995     0.300000         0.600000       0.100000           0.300000   \n",
       "159996     0.200000         0.700000       0.100000           0.300000   \n",
       "159997     0.272727         0.636364       0.090909           0.272727   \n",
       "159998     0.384615         0.538462       0.076923           0.230769   \n",
       "159999     0.333333         0.555556       0.111111           0.333333   \n",
       "\n",
       "        max_pattern_length  isDGA  \n",
       "0                        2      1  \n",
       "1                        2      1  \n",
       "2                        1      1  \n",
       "3                        1      1  \n",
       "4                        2      1  \n",
       "...                    ...    ...  \n",
       "159995                   2      0  \n",
       "159996                   1      0  \n",
       "159997                   2      0  \n",
       "159998                   1      0  \n",
       "159999                   2      0  \n",
       "\n",
       "[160000 rows x 6 columns]"
      ]
     },
     "execution_count": 11,
     "metadata": {},
     "output_type": "execute_result"
    }
   ],
   "source": [
    "features = []\n",
    "for _, row in df.iterrows():\n",
    "    # Apply DOLPHIN pattern matching\n",
    "    matches = greedy_match(row[\"host\"], DOLPHIN_PATTERNS)\n",
    "    \n",
    "    # Compute phonics features\n",
    "    phonics_features = compute_phonics_features(matches)\n",
    "\n",
    "    # Add label to features\n",
    "    phonics_features[\"isDGA\"] = row[\"isDGA\"]\n",
    "\n",
    "    # Append to features list\n",
    "    features.append(phonics_features)\n",
    "\n",
    "# Convert to DataFrame\n",
    "features_df = pd.DataFrame(features)\n",
    "features_df"
   ]
  },
  {
   "cell_type": "markdown",
   "metadata": {},
   "source": [
    "# Train model"
   ]
  },
  {
   "cell_type": "markdown",
   "metadata": {},
   "source": [
    "### Separate features and labels"
   ]
  },
  {
   "cell_type": "code",
   "execution_count": 12,
   "metadata": {},
   "outputs": [],
   "source": [
    "X = features_df.drop('isDGA', axis=1)\n",
    "y = features_df['isDGA']"
   ]
  },
  {
   "cell_type": "markdown",
   "metadata": {},
   "source": [
    "### Create a pipeline for scaling and classification"
   ]
  },
  {
   "cell_type": "code",
   "execution_count": 70,
   "metadata": {},
   "outputs": [],
   "source": [
    "pipeline = Pipeline([\n",
    "    ('scaler', StandardScaler()),\n",
    "    ('classifier', RandomForestClassifier(         \n",
    "        n_estimators=100,\n",
    "        random_state=42,\n",
    "        class_weight='balanced',\n",
    "        max_depth=None,\n",
    "        min_samples_split=5\n",
    "    ))\n",
    "])"
   ]
  },
  {
   "cell_type": "markdown",
   "metadata": {},
   "source": [
    "### Perform 5-fold cross-validation"
   ]
  },
  {
   "cell_type": "code",
   "execution_count": 71,
   "metadata": {},
   "outputs": [
    {
     "name": "stdout",
     "output_type": "stream",
     "text": [
      "Cross-validation scores: [0.88815625 0.88684375 0.88971875 0.887375   0.89165625]\n",
      "Average cross-validation score: 0.8887499999999999\n"
     ]
    }
   ],
   "source": [
    "cross_val_scores = cross_val_score(pipeline, X, y, cv=5)\n",
    "print(\"Cross-validation scores:\", cross_val_scores)\n",
    "print(\"Average cross-validation score:\", np.mean(cross_val_scores))"
   ]
  },
  {
   "cell_type": "markdown",
   "metadata": {},
   "source": [
    "### Train-test split for final evaluation"
   ]
  },
  {
   "cell_type": "code",
   "execution_count": 72,
   "metadata": {},
   "outputs": [],
   "source": [
    "X_train, X_test, y_train, y_test = train_test_split(X, y, test_size=0.2, random_state=42, stratify=y)\n",
    "pipeline.fit(X_train, y_train)\n",
    "y_pred = pipeline.predict(X_test)"
   ]
  },
  {
   "cell_type": "code",
   "execution_count": 73,
   "metadata": {},
   "outputs": [
    {
     "name": "stdout",
     "output_type": "stream",
     "text": [
      "\n",
      "Classification Report:\n",
      "              precision    recall  f1-score   support\n",
      "\n",
      "           0       0.85      0.95      0.89     16000\n",
      "           1       0.94      0.83      0.88     16000\n",
      "\n",
      "    accuracy                           0.89     32000\n",
      "   macro avg       0.89      0.89      0.89     32000\n",
      "weighted avg       0.89      0.89      0.89     32000\n",
      "\n",
      "\n",
      "Confusion Matrix:\n",
      "[[15163   837]\n",
      " [ 2770 13230]]\n",
      "\n",
      "Accuracy: 0.8873\n",
      "False Positive Rate (FPR): 0.0523\n",
      "False Negative Rate (FNR): 0.1731\n",
      "\n",
      "Feature Importance:\n",
      "              feature  importance\n",
      "0         vowel_ratio    0.340816\n",
      "3   pattern_diversity    0.335316\n",
      "1     consonant_ratio    0.190602\n",
      "2       neutral_ratio    0.101073\n",
      "4  max_pattern_length    0.032193\n"
     ]
    }
   ],
   "source": [
    "# Detailed metrics\n",
    "print(\"\\nClassification Report:\")\n",
    "print(classification_report(y_test, y_pred))\n",
    "print(\"\\nConfusion Matrix:\")\n",
    "print(confusion_matrix(y_test, y_pred))\n",
    "\n",
    "# FPR and FNR\n",
    "tn, fp, fn, tp = confusion_matrix(y_test, y_pred).ravel()\n",
    "accuracy = (tp + tn) / (tp + tn + fp + fn)\n",
    "fpr = fp / (fp + tn)\n",
    "fnr = fn / (tp + fn)\n",
    "print(f\"\\nAccuracy: {accuracy:.4f}\")\n",
    "print(f\"False Positive Rate (FPR): {fpr:.4f}\")\n",
    "print(f\"False Negative Rate (FNR): {fnr:.4f}\")\n",
    "\n",
    "# Feature importance\n",
    "rf_classifier = pipeline.named_steps['classifier']\n",
    "feature_importance = pd.DataFrame({\n",
    "    'feature': X.columns,\n",
    "    'importance': rf_classifier.feature_importances_\n",
    "}).sort_values(by='importance', ascending=False)\n",
    "print(\"\\nFeature Importance:\")\n",
    "print(feature_importance)"
   ]
  }
 ],
 "metadata": {
  "kernelspec": {
   "display_name": "Python 3",
   "language": "python",
   "name": "python3"
  },
  "language_info": {
   "codemirror_mode": {
    "name": "ipython",
    "version": 3
   },
   "file_extension": ".py",
   "mimetype": "text/x-python",
   "name": "python",
   "nbconvert_exporter": "python",
   "pygments_lexer": "ipython3",
   "version": "3.9.6"
  }
 },
 "nbformat": 4,
 "nbformat_minor": 2
}
